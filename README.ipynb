{
 "cells": [
  {
   "cell_type": "markdown",
   "id": "6a361129",
   "metadata": {},
   "source": [
    "# WALMARTSALES ANALYSIS\n",
    "\n",
    "Walmart is a global retail giant known for its vast network of stores offering a wide range of products at competitive prices. It's one of the largest retailers globally, with a significant presence in hypermarkets, discount department stores, and grocery stores.\n",
    "\n"
   ]
  },
  {
   "cell_type": "markdown",
   "id": "f1aff7db",
   "metadata": {},
   "source": [
    "# Purpose"
   ]
  },
  {
   "cell_type": "markdown",
   "id": "f69055b1",
   "metadata": {},
   "source": [
    "The main purpose of Walmart sales analysis is to understand sales trends, patterns, and performance in order to make informed business decisions, optimize inventory management, improve marketing strategies, enhance customer satisfaction, and ultimately increase profitability.\n"
   ]
  },
  {
   "cell_type": "markdown",
   "id": "4a9326fa",
   "metadata": {},
   "source": [
    "# Objective\n",
    "\n",
    "\n",
    "The objective of Walmart sales analysis, in simple terms, is to examine customer data, product information, store details, and transaction records to gain insights into how well Walmart is performing in selling its products. By analyzing these data, Walmart aims to understand customer preferences, identify popular products and categories, optimize pricing strategies, and improve overall sales performance."
   ]
  },
  {
   "cell_type": "markdown",
   "id": "a0f18715",
   "metadata": {},
   "source": [
    "The major aim of thie project is to gain insight into the sales data of Walmart to understand the different factors that affect sales of the different branches."
   ]
  },
  {
   "cell_type": "code",
   "execution_count": null,
   "id": "72cbed3b",
   "metadata": {},
   "outputs": [],
   "source": [
    "#mysql-connector-python\n",
    "import mysql.connector\n",
    "import pandas as pd\n",
    "import matplotlib.pyplot as plt"
   ]
  },
  {
   "cell_type": "code",
   "execution_count": null,
   "id": "88899d11",
   "metadata": {},
   "outputs": [],
   "source": [
    "connection = mysql.connector.connect(\n",
    "user='root',\n",
    "password='',\n",
    "host='localhost',\n",
    "database='Walmart'\n",
    ")"
   ]
  },
  {
   "cell_type": "code",
   "execution_count": null,
   "id": "8d3b479d",
   "metadata": {},
   "outputs": [],
   "source": [
    "1. How many customers are there in the dataset?\n",
    "2. What are the names of customers located in California?\n",
    "3. What is the distribution of customers across different states?\n",
    "4. What are the products available in the dataset, along with their categories and prices?\n",
    "5. What are the average, minimum, and maximum prices of products within each category?\n",
    "6. How many stores are there in each state?\n",
    "7. Which store has the longest address?\n",
    "8. How many transactions were made at each store?\n",
    "9. What is the average transaction amount?"
   ]
  }
 ],
 "metadata": {
  "kernelspec": {
   "display_name": "Python 3 (ipykernel)",
   "language": "python",
   "name": "python3"
  },
  "language_info": {
   "codemirror_mode": {
    "name": "ipython",
    "version": 3
   },
   "file_extension": ".py",
   "mimetype": "text/x-python",
   "name": "python",
   "nbconvert_exporter": "python",
   "pygments_lexer": "ipython3",
   "version": "3.11.5"
  }
 },
 "nbformat": 4,
 "nbformat_minor": 5
}
